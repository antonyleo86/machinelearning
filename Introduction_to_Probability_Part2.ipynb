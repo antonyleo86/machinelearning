{
 "cells": [
  {
   "cell_type": "code",
   "execution_count": 2,
   "metadata": {
    "slideshow": {
     "slide_type": "skip"
    }
   },
   "outputs": [
    {
     "name": "stderr",
     "output_type": "stream",
     "text": [
      "/home/benavoli/anaconda3/envs/mypy/lib/python3.7/site-packages/dask/config.py:168: YAMLLoadWarning: calling yaml.load() without Loader=... is deprecated, as the default Loader is unsafe. Please read https://msg.pyyaml.org/load for full details.\n",
      "  data = yaml.load(f.read()) or {}\n",
      "/home/benavoli/anaconda3/envs/mypy/lib/python3.7/site-packages/distributed/config.py:20: YAMLLoadWarning: calling yaml.load() without Loader=... is deprecated, as the default Loader is unsafe. Please read https://msg.pyyaml.org/load for full details.\n",
      "  defaults = yaml.load(f)\n"
     ]
    }
   ],
   "source": [
    "import numpy as np\n",
    "import matplotlib.pyplot as plt\n",
    "import pymc3 as pm\n",
    "import seaborn as sb\n",
    "import math\n",
    "%matplotlib inline"
   ]
  },
  {
   "cell_type": "markdown",
   "metadata": {},
   "source": [
    "# Discrete distributions\n",
    "In this NB, I have listed the most important discrete distributions.\n",
    "You will learn\n",
    "* what these distributions model,\n",
    "* their parameters,\n",
    "* mean and variance,\n",
    "* how to sample from these distributions using PyMC3.\n",
    "\n",
    "The full list of PyMC3 discrete distributions can be found here\n",
    "\n",
    "https://docs.pymc.io/api/distributions/discrete.html\n",
    "\n",
    "A very good source of info about discrete distributions is Wikipedia:\n",
    "\n",
    "https://en.wikipedia.org/wiki/Category:Discrete_distributions"
   ]
  },
  {
   "cell_type": "markdown",
   "metadata": {},
   "source": [
    "## Bernoulli distribution\n",
    "The Bernoulli distribution is a discrete distribution having two possible outcomes labelled by x=0 and x=1 in which x=1 (\"success\") occurs with probability $p$ and x=0 (\"failure\") occurs with probability $1-p$, where 0<p<1. \n",
    "\n",
    "It therefore has probability mass function\n",
    "\n",
    "$$\n",
    "q(x)=p^{x}(1-p)^{1-x}\n",
    "$$\n",
    "\n",
    "The mean and variance of $x$ are\n",
    "\n",
    "$$\n",
    "E[x]=p,~~~~E[(x-E[x])^2]=p(1-p)\n",
    "$$\n"
   ]
  },
  {
   "cell_type": "code",
   "execution_count": 44,
   "metadata": {},
   "outputs": [
    {
     "data": {
      "image/png": "[encoded data removed]",
      "text/plain": [
       "<Figure size 432x288 with 1 Axes>"
      ]
     },
     "metadata": {
      "needs_background": "light"
     },
     "output_type": "display_data"
    }
   ],
   "source": [
    "θ = 0.5\n",
    "d = pm.Bernoulli.dist(p=θ)\n",
    "samples = d.random(size=5000)\n",
    "plt.hist(samples);"
   ]
  },
  {
   "cell_type": "code",
   "execution_count": 48,
   "metadata": {},
   "outputs": [
    {
     "name": "stdout",
     "output_type": "stream",
     "text": [
      "[0 0 0 1 1 1 1 1 1 1]\n",
      " \n",
      "sample mean= 0.4968 theorethical= 0.5\n",
      "sample variance= 0.24998976000000003 theorethical= 0.25\n"
     ]
    }
   ],
   "source": [
    "#sample mean and variance\n",
    "mean = np.sum(samples)/len(samples)\n",
    "variance = np.sum((samples-mean)**2)/len(samples)\n",
    "print(samples[0:10])\n",
    "print(' ')\n",
    "print('sample mean=',mean, 'theorethical=',θ) #the sampling mean converges to E[x_i]=N p_i\n",
    "print('sample variance=',variance, 'theorethical=',θ*(1-θ))\n"
   ]
  },
  {
   "cell_type": "code",
   "execution_count": 55,
   "metadata": {},
   "outputs": [
    {
     "data": {
      "image/png": "[encoded data removed]",
      "text/plain": [
       "<Figure size 432x288 with 1 Axes>"
      ]
     },
     "metadata": {
      "needs_background": "light"
     },
     "output_type": "display_data"
    }
   ],
   "source": [
    "θ = 0.2\n",
    "d = pm.Bernoulli.dist(p=θ)\n",
    "samples = d.random(size=5000)\n",
    "plt.hist(samples);"
   ]
  },
  {
   "cell_type": "code",
   "execution_count": 56,
   "metadata": {},
   "outputs": [
    {
     "name": "stdout",
     "output_type": "stream",
     "text": [
      "[0 0 0 0 0 0 0 0 0 0]\n",
      " \n",
      "sample mean= 0.1994 theorethical= 0.2\n",
      "sample variance= 0.15963964 theorethical= 0.16000000000000003\n"
     ]
    }
   ],
   "source": [
    "#sample mean and variance\n",
    "mean = np.sum(samples)/len(samples)\n",
    "variance = np.sum((samples-mean)**2)/len(samples)\n",
    "print(samples[0:10])\n",
    "print(' ')\n",
    "print('sample mean=',mean, 'theorethical=',θ) #the sampling mean converges to E[x_i]=N p_i\n",
    "print('sample variance=',variance, 'theorethical=',θ*(1-θ))"
   ]
  },
  {
   "cell_type": "markdown",
   "metadata": {},
   "source": [
    "## Binomial distribution\n",
    "The binomial distribution gives the discrete probability distribution of obtaining exactly $x$ successes out of $n$ Bernoulli trials (where the result of each Bernoulli trial is true with probability $p$ and false with probability $1-p$). \n",
    "\n",
    "The binomial distribution is therefore given by\n",
    "\n",
    "$$\n",
    "q(x) = \\frac{n!}{x!(n-x)!}p^x(1-p)^{n-x}\n",
    "$$\n",
    "\n",
    "The mean and variance of $x$ are \n",
    "\n",
    "$$\n",
    "E[x]=n p,~~~~E[(x-E[x])^2]=n p(1-p)\n",
    "$$"
   ]
  },
  {
   "cell_type": "code",
   "execution_count": 49,
   "metadata": {},
   "outputs": [
    {
     "data": {
      "image/png": "[encoded data removed]",
      "text/plain": [
       "<Figure size 432x288 with 1 Axes>"
      ]
     },
     "metadata": {
      "needs_background": "light"
     },
     "output_type": "display_data"
    }
   ],
   "source": [
    "N=20\n",
    "θ = 0.5\n",
    "d = pm.Binomial.dist(n=N,p=θ)\n",
    "samples=d.random(size=10000)\n",
    "plt.hist(samples,bins='auto');"
   ]
  },
  {
   "cell_type": "code",
   "execution_count": 50,
   "metadata": {},
   "outputs": [
    {
     "name": "stdout",
     "output_type": "stream",
     "text": [
      "[12  9 13 10 12  8 10 12 11 12]\n",
      " \n",
      "sample mean= 10.0089 theorethical= 10.0\n",
      "sample variance= 4.9936207900000005 theorethical= 5.0\n"
     ]
    }
   ],
   "source": [
    "mean = np.sum(samples)/len(samples)\n",
    "variance = np.sum((samples-mean)**2)/len(samples)\n",
    "print(samples[0:10])\n",
    "print(' ')\n",
    "print('sample mean=',mean, 'theorethical=',θ*N) #the sampling mean converges to E[x_i]=N p_i\n",
    "print('sample variance=',variance, 'theorethical=',θ*(1-θ)*N)"
   ]
  },
  {
   "cell_type": "code",
   "execution_count": 79,
   "metadata": {},
   "outputs": [
    {
     "data": {
      "image/png": "[encoded data removed]",
      "text/plain": [
       "<Figure size 432x288 with 1 Axes>"
      ]
     },
     "metadata": {
      "needs_background": "light"
     },
     "output_type": "display_data"
    }
   ],
   "source": [
    "#Equivalent to\n",
    "d = pm.Bernoulli.dist(p=0.5)\n",
    "v=d.random(size=20*10000)\n",
    "samples = v.reshape(10000,20).sum(axis=1)\n",
    "plt.hist(samples,bins='auto');"
   ]
  },
  {
   "cell_type": "code",
   "execution_count": 53,
   "metadata": {},
   "outputs": [
    {
     "name": "stdout",
     "output_type": "stream",
     "text": [
      "10.0089 4.9936207900000005\n"
     ]
    }
   ],
   "source": [
    "mean = np.sum(samples)/len(samples)\n",
    "variance = np.sum((samples-mean)**2)/len(samples)\n",
    "print(mean,variance)"
   ]
  },
  {
   "cell_type": "markdown",
   "metadata": {},
   "source": [
    "## Geometric distribution\n",
    "The probability that the first success in a sequence of Bernoulli trials occurs on the $x$-th trial. \n",
    "\n",
    "The pmf of this distribution is\n",
    "\n",
    "\n",
    "$$\n",
    "q(x)=p(1−p)^{x−1}\n",
    "$$\n",
    "\n",
    "$$\n",
    "E[x]=\\frac{1}{p},~~~~E[(x-E[x])^2]=\\frac{1-p}{p^2}\n",
    "$$"
   ]
  },
  {
   "cell_type": "code",
   "execution_count": 60,
   "metadata": {},
   "outputs": [
    {
     "data": {
      "image/png": "[encoded data removed]",
      "text/plain": [
       "<Figure size 432x288 with 1 Axes>"
      ]
     },
     "metadata": {
      "needs_background": "light"
     },
     "output_type": "display_data"
    }
   ],
   "source": [
    "θ = 0.2\n",
    "d = pm.Geometric.dist(p=θ)\n",
    "samples=d.random(size=10000)\n",
    "plt.hist(samples,bins='auto');"
   ]
  },
  {
   "cell_type": "code",
   "execution_count": 62,
   "metadata": {},
   "outputs": [
    {
     "name": "stdout",
     "output_type": "stream",
     "text": [
      "[ 3  1  2  2  3 11  3  9  3  1]\n",
      " \n",
      "sample mean= 5.0415 theorethical= 5.0\n",
      "sample variance= 20.511577750000004 theorethical= 19.999999999999996\n"
     ]
    }
   ],
   "source": [
    "#sample mean and variance\n",
    "mean = np.sum(samples)/len(samples)\n",
    "variance = np.sum((samples-mean)**2)/len(samples)\n",
    "print(samples[0:10])\n",
    "print(' ')\n",
    "print('sample mean=',mean, 'theorethical=',1/θ) #the sampling mean converges to E[x_i]=N p_i\n",
    "print('sample variance=',variance, 'theorethical=',(1-θ)/θ**2)"
   ]
  },
  {
   "cell_type": "code",
   "execution_count": 113,
   "metadata": {},
   "outputs": [
    {
     "data": {
      "image/png": "[encoded data removed]",
      "text/plain": [
       "<Figure size 432x288 with 1 Axes>"
      ]
     },
     "metadata": {
      "needs_background": "light"
     },
     "output_type": "display_data"
    }
   ],
   "source": [
    "#Equivalent to\n",
    "d = pm.Bernoulli.dist(p=0.2)\n",
    "v=d.random(size=40*10000)\n",
    "samples = np.argmax(v.reshape(10000,40),axis=1)+1#we need to add one because Python counts from zero\n",
    "plt.hist(samples,bins='auto');"
   ]
  },
  {
   "cell_type": "code",
   "execution_count": 114,
   "metadata": {},
   "outputs": [
    {
     "name": "stdout",
     "output_type": "stream",
     "text": [
      "4.9632 19.36504576\n"
     ]
    }
   ],
   "source": [
    "mean = np.sum(samples)/len(samples)\n",
    "variance = np.sum((samples-mean)**2)/len(samples)\n",
    "print(mean,variance)"
   ]
  },
  {
   "cell_type": "markdown",
   "metadata": {},
   "source": [
    "## Poisson Distribution\n",
    "An event can occur 0, 1, 2,... times in an interval. The average number of events in an interval is designated $\\mu$ is the event rate, also called the rate parameter. The probability of observing $k$ events in an interval is given by the equation\n",
    "\n",
    "$$\n",
    "{\\displaystyle p(x{\\text{ events in interval}})=e^{-\\mu }{\\frac {\\mu^{x}}{x!}}}\n",
    "$$\n",
    "\n",
    "It is useful to model \n",
    "* The number of patients arriving in an emergency room between 10 and 11 pm\n",
    "* The number of photons hitting a detector in a particular time interval\n",
    "\n",
    "The mean and variance of $x$ are \n",
    "\n",
    "$$\n",
    "E[x]=\\mu,~~~~E[(x-E[x])^2]=\\mu\n",
    "$$"
   ]
  },
  {
   "cell_type": "code",
   "execution_count": 87,
   "metadata": {},
   "outputs": [
    {
     "data": {
      "image/png": "[encoded data removed]",
      "text/plain": [
       "<Figure size 432x288 with 1 Axes>"
      ]
     },
     "metadata": {
      "needs_background": "light"
     },
     "output_type": "display_data"
    }
   ],
   "source": [
    "dist = pm.Poisson.dist(mu=5)\n",
    "samples=dist.random(size=10000)\n",
    "plt.hist(samples,bins='auto');\n"
   ]
  },
  {
   "cell_type": "code",
   "execution_count": 88,
   "metadata": {},
   "outputs": [
    {
     "name": "stdout",
     "output_type": "stream",
     "text": [
      "4.9809 5.026735189999999\n"
     ]
    }
   ],
   "source": [
    "mean = np.sum(samples)/len(samples)\n",
    "variance = np.sum((samples-mean)**2)/len(samples)\n",
    "print(mean,variance)"
   ]
  },
  {
   "cell_type": "markdown",
   "metadata": {},
   "source": [
    "## Categorical distribution\n",
    "It is the generalization of the Bernoulli distribution to more than two categories.\n",
    "It can be used to model\n",
    "* the outcome of a dice roll (6 categories)\n",
    "* the outcome of an election (number of categories=number of candidates)\n"
   ]
  },
  {
   "cell_type": "code",
   "execution_count": 135,
   "metadata": {},
   "outputs": [
    {
     "data": {
      "image/png": "[encoded data removed]",
      "text/plain": [
       "<Figure size 432x288 with 1 Axes>"
      ]
     },
     "metadata": {
      "needs_background": "light"
     },
     "output_type": "display_data"
    }
   ],
   "source": [
    "#example with three categories\n",
    "dist = pm.Categorical.dist(p=[0.3,0.4,0.3])\n",
    "samples = dist.random(size=10000)\n",
    "plt.hist(samples,bins='auto');"
   ]
  },
  {
   "cell_type": "markdown",
   "metadata": {},
   "source": [
    "## Multinomial distribution\n",
    "\n",
    "It is the generalization of the Binomial distribution to more than two categories.\n",
    "It can be used to model\n",
    "* the outcome of N dice rolls (6 categories)\n",
    "* the outcome of an election poll (number of categories=number of candidates)\n",
    "\n",
    "Its PMF in the case of $k$ categories is:\n",
    "$$\n",
    "p(x_1,\\dots, x_{k}; \\theta_1,\\ldots, \\theta_k) = \\displaystyle {n! \\over x_{1}!\\cdots x_{k}!}\\theta_{1}^{x_{1}}\\theta_{2}^{x_{2}}\\cdots  \\theta_{k}^{x_{k}}\n",
    "$$\n",
    "or, equivalently\n",
    "$$\n",
    "p(x_1,\\dots, x_{k}; \\theta_1,\\ldots, \\theta_k) = \\frac{\\Gamma(\\sum_i x_i + 1)}{\\prod_i \\Gamma(x_i+1)} \\prod_{i=1}^k \\theta_i^{x_i}\n",
    "$$\n",
    "\n",
    "where $\\theta_i\\geq0$ and $\\sum_{i=1}^k \\theta_i=1$ are the probabilities of the $k$ categories and\n",
    "$x_i$ is the number of time the i-th category has been observed in $N=\\sum_{i=1}^k x_i$ trials.\n",
    "\n",
    "The function $\\Gamma(\\cdot)$ is called gamma function:\n",
    "\n",
    "https://en.wikipedia.org/wiki/Gamma_function\n",
    " \n",
    "$ \\Gamma(x_i+1)=x_i!$ when  $x_i$ is integer (like in our case). It generalises the factorial\n",
    "to the case where $x_i$ is a real number\n",
    "\n",
    "The expectation of the category x_i is\n",
    "$$\n",
    "E[x_i]=N \\theta_i\n",
    "$$\n",
    "and the variance\n",
    "$$\n",
    "E[(x_i-E[x_i])^2]=N \\theta_i (1-\\theta_i)\n",
    "$$\n",
    "and covariance\n",
    "$$\n",
    "E[(x_i-E[x_i])(x_j-E[x_j])]=- N \\theta_i \\theta_j\n",
    "$$\n",
    "for $i\\neqj$\n"
   ]
  },
  {
   "cell_type": "code",
   "execution_count": 41,
   "metadata": {},
   "outputs": [
    {
     "name": "stdout",
     "output_type": "stream",
     "text": [
      "[[5. 2. 3.]\n",
      " [3. 3. 4.]\n",
      " [2. 4. 4.]\n",
      " [3. 4. 3.]\n",
      " [2. 1. 7.]]\n",
      " \n",
      "sample mean= [3.00288  4.000216 2.996904] theorethical= [3. 4. 3.]\n",
      "sample variance= [2.10043171 2.40004795 2.10207041] theorethical= [2.1 2.4 2.1]\n",
      "sample covariance between θ_1 and θ_2 = -1.1992046220800001 theorethical= -1.2\n"
     ]
    }
   ],
   "source": [
    "#example with three categories\n",
    "N=10\n",
    "θ = np.array([0.3,0.4,0.3])\n",
    "dist = pm.Multinomial.dist(p=θ,n=N) #n is the number of trials\n",
    "samples = dist.random(size=250000)\n",
    "print(samples[0:5,:])\n",
    "print(' ')\n",
    "print('sample mean=',np.mean(samples,axis=0), 'theorethical=',θ*N) #the sampling mean converges to E[x_i]=N p_i\n",
    "print('sample variance=',np.var(samples,axis=0), 'theorethical=',θ*(1-θ)*N)\n",
    "print('sample covariance between θ_1 and θ_2 =',np.mean((samples[:,0]-np.mean(samples[:,0],axis=0))*(samples[:,1]-np.mean(samples[:,1],axis=0)),axis=0), 'theorethical=',-θ[0]*θ[1]*N)"
   ]
  },
  {
   "cell_type": "markdown",
   "metadata": {},
   "source": [
    "The firs row tells us that in this 10 trials, we have obtained\n",
    "the category 1 one time, the category 2 three times and the category 6 three times."
   ]
  },
  {
   "cell_type": "code",
   "execution_count": 27,
   "metadata": {},
   "outputs": [
    {
     "data": {
      "text/plain": [
       "[3, 2, 5]"
      ]
     },
     "execution_count": 27,
     "metadata": {},
     "output_type": "execute_result"
    }
   ],
   "source": [
    "#Note that you can equivalently sample one sample from a multinomial with n=N\n",
    "N=10\n",
    "samples1 = pm.Multinomial.dist(p=[0.3,0.4,0.3],n=N).random(size=1)\n",
    "# sampling N samples from the Categorical distribution\n",
    "s = pm.Categorical.dist(p=[0.3,0.4,0.3]).random(size=N)\n",
    "samples2 = [sum(s==0),sum(s==1),sum(s==2)]\n",
    "samples2"
   ]
  },
  {
   "cell_type": "markdown",
   "metadata": {},
   "source": [
    "## Why does the sample mean converge to the theoretical mean?\n",
    "\n",
    "In probability theory, the law of large numbers (LLN) is a theorem that describes the result of performing the same experiment a large number of times. According to the law, the average of the results obtained from a large number of trials should be close to the expected value, and will tend to become closer as more trials are performed. \n",
    "\n",
    "More details here:\n",
    "\n",
    "https://en.wikipedia.org/wiki/Law_of_large_numbers"
   ]
  },
  {
   "cell_type": "code",
   "execution_count": null,
   "metadata": {},
   "outputs": [],
   "source": []
  }
 ],
 "metadata": {
  "kernelspec": {
   "display_name": "Python 3",
   "language": "python",
   "name": "python3"
  },
  "language_info": {
   "codemirror_mode": {
    "name": "ipython",
    "version": 3
   },
   "file_extension": ".py",
   "mimetype": "text/x-python",
   "name": "python",
   "nbconvert_exporter": "python",
   "pygments_lexer": "ipython3",
   "version": "3.7.3"
  },
  "toc": {
   "base_numbering": 1,
   "nav_menu": {},
   "number_sections": true,
   "sideBar": true,
   "skip_h1_title": false,
   "title_cell": "Table of Contents",
   "title_sidebar": "Contents",
   "toc_cell": false,
   "toc_position": {},
   "toc_section_display": true,
   "toc_window_display": false
  },
  "varInspector": {
   "cols": {
    "lenName": 16,
    "lenType": 16,
    "lenVar": 40
   },
   "kernels_config": {
    "python": {
     "delete_cmd_postfix": "",
     "delete_cmd_prefix": "del ",
     "library": "var_list.py",
     "varRefreshCmd": "print(var_dic_list())"
    },
    "r": {
     "delete_cmd_postfix": ") ",
     "delete_cmd_prefix": "rm(",
     "library": "var_list.r",
     "varRefreshCmd": "cat(var_dic_list()) "
    }
   },
   "types_to_exclude": [
    "module",
    "function",
    "builtin_function_or_method",
    "instance",
    "_Feature"
   ],
   "window_display": false
  }
 },
 "nbformat": 4,
 "nbformat_minor": 2
}
